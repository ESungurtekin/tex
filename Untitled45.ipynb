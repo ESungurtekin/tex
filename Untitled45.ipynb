{
 "cells": [
  {
   "cell_type": "markdown",
   "id": "91708dec",
   "metadata": {},
   "source": [
    "# Öznitelik Seçim Algoritmaları Kullanılarak Otizmde Etken Genin Belirlenmesi"
   ]
  },
  {
   "cell_type": "markdown",
   "id": "6cd5f087",
   "metadata": {},
   "source": [
    "NOT: Datasetinin tekrar tekrar çağırılmasındaki sebep datanın kullanıldıkça değişikliğe uğramasıdır."
   ]
  },
  {
   "cell_type": "code",
   "execution_count": 28,
   "id": "06182d80",
   "metadata": {},
   "outputs": [
    {
     "name": "stderr",
     "output_type": "stream",
     "text": [
      "C:\\Users\\90551\\AppData\\Local\\Temp\\ipykernel_3116\\405228533.py:2: DtypeWarning: Columns (1,2,3,4,5,6,7,8,9,10,11,12,13,14,15,16,17,18,19,20,21,22,23,24,25,26,27,28,29,30,31,32,33,34,35,36,37,38,39,40,41,42,43,44,45,46,47,48,49,50,51,52,53,54,55,56,57,58,59,60,61,62,63,64,65,66,67,68,69,70,71,72,73,74,75,76,77,78,79,80,81,82,83,84,85,86,87,88,89,90,91,92,93,94,95,96,97,98,99,100,101,102,103,104,105,106,107,108,109,110,111,112,113,114,115,116,117,118,119,120,121,122,123,124,125,126,127,128,129,130,131,132,133,134,135,136,137,138,139,140,141,142,143,144,145,146) have mixed types. Specify dtype option on import or set low_memory=False.\n",
      "  df = pd.read_csv('assignment.txt', sep=\"\\t\", header=None)\n"
     ]
    }
   ],
   "source": [
    "import pandas as pd\n",
    "df = pd.read_csv('assignment.txt', sep=\"\\t\", header=None)\n",
    "df.columns=list(df.loc[0,:])\n",
    "from sklearn.model_selection import train_test_split\n",
    "cols=list(df.columns)\n",
    "df=df.drop(0)\n",
    "df=df.iloc[:,1:].astype(float)\n",
    "X_train, X_test , y_train, y_test= train_test_split(X, y,\n",
    "                                         test_size=0.5, random_state=1)\n"
   ]
  },
  {
   "cell_type": "code",
   "execution_count": 9,
   "id": "5c77e8e2",
   "metadata": {},
   "outputs": [
    {
     "data": {
      "image/png": "[encoded data removed]",
      "text/plain": [
       "<Figure size 432x288 with 1 Axes>"
      ]
     },
     "metadata": {
      "needs_background": "light"
     },
     "output_type": "display_data"
    }
   ],
   "source": [
    "from sklearn.cluster import KMeans\n",
    "kmeans=KMeans(n_clusters=2)\n",
    "kmeans.fit(df)\n",
    "y_km=kmeans.fit_predict(df)\n",
    "import matplotlib.pyplot as plt\n",
    "df=np.array(df)\n",
    "plt.scatter(df[y_km ==0,0], df[y_km == 0,1], s=20, c='red')\n",
    "plt.scatter(df[y_km ==1,0], df[y_km == 1,1], s=20, c='black')\n",
    "plt.show()"
   ]
  },
  {
   "cell_type": "code",
   "execution_count": 10,
   "id": "babf4bd7",
   "metadata": {},
   "outputs": [],
   "source": [
    "indice_0=np.where(df[y_km==0,0])[0]\n",
    "indice_1=np.where(df[y_km==1,0])[0]"
   ]
  },
  {
   "cell_type": "code",
   "execution_count": 30,
   "id": "1f1cabc5",
   "metadata": {},
   "outputs": [
    {
     "name": "stderr",
     "output_type": "stream",
     "text": [
      "C:\\Users\\90551\\AppData\\Local\\Temp\\ipykernel_3116\\3347518579.py:2: DtypeWarning: Columns (1,2,3,4,5,6,7,8,9,10,11,12,13,14,15,16,17,18,19,20,21,22,23,24,25,26,27,28,29,30,31,32,33,34,35,36,37,38,39,40,41,42,43,44,45,46,47,48,49,50,51,52,53,54,55,56,57,58,59,60,61,62,63,64,65,66,67,68,69,70,71,72,73,74,75,76,77,78,79,80,81,82,83,84,85,86,87,88,89,90,91,92,93,94,95,96,97,98,99,100,101,102,103,104,105,106,107,108,109,110,111,112,113,114,115,116,117,118,119,120,121,122,123,124,125,126,127,128,129,130,131,132,133,134,135,136,137,138,139,140,141,142,143,144,145,146) have mixed types. Specify dtype option on import or set low_memory=False.\n",
      "  df = pd.read_csv('assignment.txt', sep=\"\\t\", header=None)\n"
     ]
    }
   ],
   "source": [
    "import pandas as pd\n",
    "df = pd.read_csv('assignment.txt', sep=\"\\t\", header=None)\n",
    "df.columns=list(df.loc[0,:])\n",
    "\n",
    "cols=list(df.columns)\n",
    "df=df.drop(0)\n",
    "df=df.iloc[:,1:].astype(float)\n",
    "\n",
    "df[\"autism\"]=pd.DataFrame(y_km)\n"
   ]
  },
  {
   "cell_type": "markdown",
   "id": "79d2f617",
   "metadata": {},
   "source": [
    "# Öznitelik Seçim Algoritmalarının Uygulanması\n"
   ]
  },
  {
   "cell_type": "markdown",
   "id": "042d540a",
   "metadata": {},
   "source": [
    "## Yüzde seçme algoritması ile etken genimizi bulmaya çalışalım."
   ]
  },
  {
   "cell_type": "code",
   "execution_count": 42,
   "id": "389309fa",
   "metadata": {},
   "outputs": [],
   "source": [
    "numpy_array = df.to_numpy()\n",
    "np.savetxt(r'C:\\Users\\90551/autism.txt', numpy_array, fmt = \"%f\")"
   ]
  },
  {
   "cell_type": "code",
   "execution_count": 34,
   "id": "802ac044",
   "metadata": {},
   "outputs": [],
   "source": [
    "df_=df\n",
    "def clean_dataset(df):\n",
    "    assert isinstance(df, pd.DataFrame), \"df needs to be a pd.DataFrame\"\n",
    "    df.dropna(inplace=True)\n",
    "    indices_to_keep = ~df.isin([np.nan, np.inf, -np.inf]).any(1)\n",
    "    return df[indices_to_keep].astype(np.float64)\n",
    "clean_dataset(df_)\n",
    "\n",
    "\n",
    "\n",
    "\n",
    "import pandas as pd\n",
    "\n",
    "X = df_.iloc[:, :-1]\n",
    "y = df_.iloc[:,-1]\n",
    "\n",
    "from sklearn.feature_selection import SelectPercentile,chi2\n",
    "X_new=SelectPercentile(chi2, percentile=0.05).fit_transform(X, y)"
   ]
  },
  {
   "cell_type": "code",
   "execution_count": 16,
   "id": "0d6e39df",
   "metadata": {},
   "outputs": [
    {
     "data": {
      "text/plain": [
       "array([[ 173.9045658 ],\n",
       "       [ 130.9858355 ],\n",
       "       [1083.302169  ],\n",
       "       ...,\n",
       "       [  14.83785868],\n",
       "       [  39.7973648 ],\n",
       "       [  91.27292116]])"
      ]
     },
     "execution_count": 16,
     "metadata": {},
     "output_type": "execute_result"
    }
   ],
   "source": [
    "X_new"
   ]
  },
  {
   "cell_type": "markdown",
   "id": "06535b82",
   "metadata": {},
   "source": [
    "Eğer datamızdan bakarsak bu eleme yüzdesine giren sütunun \"GSM627193\" sütunu olduğunu görürüz."
   ]
  },
  {
   "cell_type": "markdown",
   "id": "81aed22b",
   "metadata": {},
   "source": [
    "## Chi-square uygulamasını deneyelim"
   ]
  },
  {
   "cell_type": "code",
   "execution_count": 17,
   "id": "96cc3277",
   "metadata": {},
   "outputs": [],
   "source": [
    "from sklearn.feature_selection import SelectKBest, chi2\n",
    "chi2_selector = SelectKBest(chi2, k=1)\n",
    "X_kbest = chi2_selector.fit_transform(X, y)"
   ]
  },
  {
   "cell_type": "code",
   "execution_count": 18,
   "id": "951ed5f8",
   "metadata": {},
   "outputs": [
    {
     "data": {
      "text/plain": [
       "array([[ 173.9045658 ],\n",
       "       [ 130.9858355 ],\n",
       "       [1083.302169  ],\n",
       "       ...,\n",
       "       [  14.83785868],\n",
       "       [  39.7973648 ],\n",
       "       [  91.27292116]])"
      ]
     },
     "execution_count": 18,
     "metadata": {},
     "output_type": "execute_result"
    }
   ],
   "source": [
    "X_kbest"
   ]
  },
  {
   "cell_type": "markdown",
   "id": "931600fb",
   "metadata": {},
   "source": [
    "Görüldüğü gibi bu algoritma da aynı sonucu verdi. Şu an için denediğimiz iki algoritma da etken genin \"GSM627193\" olduğunu söylüyor."
   ]
  },
  {
   "cell_type": "markdown",
   "id": "df69f7d4",
   "metadata": {},
   "source": [
    "## Anova F değeri yardımı ile Öznitelik Seçimi"
   ]
  },
  {
   "cell_type": "code",
   "execution_count": 19,
   "id": "b571f4d3",
   "metadata": {},
   "outputs": [
    {
     "data": {
      "text/plain": [
       "array([[ 173.9045658 ],\n",
       "       [ 130.9858355 ],\n",
       "       [1083.302169  ],\n",
       "       ...,\n",
       "       [  14.83785868],\n",
       "       [  39.7973648 ],\n",
       "       [  91.27292116]])"
      ]
     },
     "execution_count": 19,
     "metadata": {},
     "output_type": "execute_result"
    }
   ],
   "source": [
    "from sklearn.feature_selection import f_classif\n",
    "fvalue_selector = SelectKBest(f_classif, k=1)\n",
    "\n",
    "# Apply the SelectKBest object to the features and target\n",
    "X_kbest = fvalue_selector.fit_transform(X, y)\n",
    "X_kbest"
   ]
  },
  {
   "cell_type": "markdown",
   "id": "8447c33a",
   "metadata": {},
   "source": [
    "Görüldüğü gibi üçüncü algoritma da aynı geni etken gen olarak belirledi. İşimizi sağlama alma amacıyla bir kaç algoritma üzerinde daha çalışalım."
   ]
  },
  {
   "cell_type": "markdown",
   "id": "2afb8edd",
   "metadata": {},
   "source": [
    "## Lasso Regression"
   ]
  },
  {
   "cell_type": "code",
   "execution_count": 20,
   "id": "cbe73375",
   "metadata": {},
   "outputs": [],
   "source": [
    "from sklearn.model_selection import train_test_split\n",
    "from sklearn.linear_model import Lasso\n",
    "from sklearn.feature_selection import SelectFromModel\n",
    "from sklearn.preprocessing import StandardScaler\n"
   ]
  },
  {
   "cell_type": "code",
   "execution_count": 21,
   "id": "2541b73e",
   "metadata": {},
   "outputs": [
    {
     "data": {
      "text/plain": [
       "((38228, 146), (16384, 146))"
      ]
     },
     "execution_count": 21,
     "metadata": {},
     "output_type": "execute_result"
    }
   ],
   "source": [
    "X_train, X_test, y_train , y_test = train_test_split(\n",
    "    X,y,\n",
    "    test_size=0.3,\n",
    "    random_state=0)\n",
    "\n",
    "X_train.shape, X_test.shape"
   ]
  },
  {
   "cell_type": "code",
   "execution_count": 22,
   "id": "a62c6eb5",
   "metadata": {},
   "outputs": [
    {
     "name": "stdout",
     "output_type": "stream",
     "text": [
      "Toplam Öznitelik: 146\n",
      "Seçilen Öznitelik: Index(['GSM627193'], dtype='object')\n"
     ]
    }
   ],
   "source": [
    "scaler = StandardScaler()\n",
    "scaler.fit(X_train.fillna(0))\n",
    "sel_ = SelectFromModel(Lasso(alpha=0.01))\n",
    "sel_.fit(scaler.transform(X_train.fillna(0)), y_train)\n",
    "selected_feat = X_train.columns[(sel_.get_support())]\n",
    "\n",
    "print('Toplam Öznitelik: {}'.format((X_train.shape[1])))\n",
    "print('Seçilen Öznitelik: {}'.format(selected_feat))"
   ]
  },
  {
   "cell_type": "markdown",
   "id": "6b245640",
   "metadata": {},
   "source": [
    "Görüldüğü gibi Lasso Regression modeli de aynı geni etken gen olarak belirledi."
   ]
  },
  {
   "cell_type": "markdown",
   "id": "f4149c0e",
   "metadata": {},
   "source": [
    "## Tek Değişkenli Method"
   ]
  },
  {
   "cell_type": "code",
   "execution_count": 23,
   "id": "8dcc9c1b",
   "metadata": {},
   "outputs": [
    {
     "name": "stdout",
     "output_type": "stream",
     "text": [
      "         Specs         Score\n",
      "122  GSM627193  3.355177e+06\n"
     ]
    }
   ],
   "source": [
    "BestFeatures = SelectKBest(score_func=chi2, k=10)\n",
    "fit = BestFeatures.fit(X,y)\n",
    "df_scores = pd.DataFrame(fit.scores_)\n",
    "df_columns = pd.DataFrame(X.columns)\n",
    "f_Scores = pd.concat([df_columns,df_scores],axis=1)\n",
    "f_Scores.columns = ['Specs','Score'] \n",
    "print(f_Scores.nlargest(1,'Score')) "
   ]
  },
  {
   "cell_type": "markdown",
   "id": "7128c81b",
   "metadata": {},
   "source": [
    "Görüldüğü gibi tekrardan GSM627193 geni etken gen görünüyor."
   ]
  },
  {
   "cell_type": "markdown",
   "id": "daa0b794",
   "metadata": {},
   "source": [
    "## Öznitelik Önemi Methodu"
   ]
  },
  {
   "cell_type": "code",
   "execution_count": 25,
   "id": "16de6175",
   "metadata": {},
   "outputs": [
    {
     "data": {
      "text/html": [
       "<style>#sk-container-id-1 {color: black;background-color: white;}#sk-container-id-1 pre{padding: 0;}#sk-container-id-1 div.sk-toggleable {background-color: white;}#sk-container-id-1 label.sk-toggleable__label {cursor: pointer;display: block;width: 100%;margin-bottom: 0;padding: 0.3em;box-sizing: border-box;text-align: center;}#sk-container-id-1 label.sk-toggleable__label-arrow:before {content: \"▸\";float: left;margin-right: 0.25em;color: #696969;}#sk-container-id-1 label.sk-toggleable__label-arrow:hover:before {color: black;}#sk-container-id-1 div.sk-estimator:hover label.sk-toggleable__label-arrow:before {color: black;}#sk-container-id-1 div.sk-toggleable__content {max-height: 0;max-width: 0;overflow: hidden;text-align: left;background-color: #f0f8ff;}#sk-container-id-1 div.sk-toggleable__content pre {margin: 0.2em;color: black;border-radius: 0.25em;background-color: #f0f8ff;}#sk-container-id-1 input.sk-toggleable__control:checked~div.sk-toggleable__content {max-height: 200px;max-width: 100%;overflow: auto;}#sk-container-id-1 input.sk-toggleable__control:checked~label.sk-toggleable__label-arrow:before {content: \"▾\";}#sk-container-id-1 div.sk-estimator input.sk-toggleable__control:checked~label.sk-toggleable__label {background-color: #d4ebff;}#sk-container-id-1 div.sk-label input.sk-toggleable__control:checked~label.sk-toggleable__label {background-color: #d4ebff;}#sk-container-id-1 input.sk-hidden--visually {border: 0;clip: rect(1px 1px 1px 1px);clip: rect(1px, 1px, 1px, 1px);height: 1px;margin: -1px;overflow: hidden;padding: 0;position: absolute;width: 1px;}#sk-container-id-1 div.sk-estimator {font-family: monospace;background-color: #f0f8ff;border: 1px dotted black;border-radius: 0.25em;box-sizing: border-box;margin-bottom: 0.5em;}#sk-container-id-1 div.sk-estimator:hover {background-color: #d4ebff;}#sk-container-id-1 div.sk-parallel-item::after {content: \"\";width: 100%;border-bottom: 1px solid gray;flex-grow: 1;}#sk-container-id-1 div.sk-label:hover label.sk-toggleable__label {background-color: #d4ebff;}#sk-container-id-1 div.sk-serial::before {content: \"\";position: absolute;border-left: 1px solid gray;box-sizing: border-box;top: 0;bottom: 0;left: 50%;z-index: 0;}#sk-container-id-1 div.sk-serial {display: flex;flex-direction: column;align-items: center;background-color: white;padding-right: 0.2em;padding-left: 0.2em;position: relative;}#sk-container-id-1 div.sk-item {position: relative;z-index: 1;}#sk-container-id-1 div.sk-parallel {display: flex;align-items: stretch;justify-content: center;background-color: white;position: relative;}#sk-container-id-1 div.sk-item::before, #sk-container-id-1 div.sk-parallel-item::before {content: \"\";position: absolute;border-left: 1px solid gray;box-sizing: border-box;top: 0;bottom: 0;left: 50%;z-index: -1;}#sk-container-id-1 div.sk-parallel-item {display: flex;flex-direction: column;z-index: 1;position: relative;background-color: white;}#sk-container-id-1 div.sk-parallel-item:first-child::after {align-self: flex-end;width: 50%;}#sk-container-id-1 div.sk-parallel-item:last-child::after {align-self: flex-start;width: 50%;}#sk-container-id-1 div.sk-parallel-item:only-child::after {width: 0;}#sk-container-id-1 div.sk-dashed-wrapped {border: 1px dashed gray;margin: 0 0.4em 0.5em 0.4em;box-sizing: border-box;padding-bottom: 0.4em;background-color: white;}#sk-container-id-1 div.sk-label label {font-family: monospace;font-weight: bold;display: inline-block;line-height: 1.2em;}#sk-container-id-1 div.sk-label-container {text-align: center;}#sk-container-id-1 div.sk-container {/* jupyter's `normalize.less` sets `[hidden] { display: none; }` but bootstrap.min.css set `[hidden] { display: none !important; }` so we also need the `!important` here to be able to override the default hidden behavior on the sphinx rendered scikit-learn.org. See: https://github.com/scikit-learn/scikit-learn/issues/21755 */display: inline-block !important;position: relative;}#sk-container-id-1 div.sk-text-repr-fallback {display: none;}</style><div id=\"sk-container-id-1\" class=\"sk-top-container\"><div class=\"sk-text-repr-fallback\"><pre>XGBClassifier(base_score=0.5, booster=&#x27;gbtree&#x27;, callbacks=None,\n",
       "              colsample_bylevel=1, colsample_bynode=1, colsample_bytree=1,\n",
       "              early_stopping_rounds=None, enable_categorical=False,\n",
       "              eval_metric=None, gamma=0, gpu_id=-1, grow_policy=&#x27;depthwise&#x27;,\n",
       "              importance_type=None, interaction_constraints=&#x27;&#x27;,\n",
       "              learning_rate=0.300000012, max_bin=256, max_cat_to_onehot=4,\n",
       "              max_delta_step=0, max_depth=6, max_leaves=0, min_child_weight=1,\n",
       "              missing=nan, monotone_constraints=&#x27;()&#x27;, n_estimators=100,\n",
       "              n_jobs=0, num_parallel_tree=1, predictor=&#x27;auto&#x27;, random_state=0,\n",
       "              reg_alpha=0, reg_lambda=1, ...)</pre><b>In a Jupyter environment, please rerun this cell to show the HTML representation or trust the notebook. <br />On GitHub, the HTML representation is unable to render, please try loading this page with nbviewer.org.</b></div><div class=\"sk-container\" hidden><div class=\"sk-item\"><div class=\"sk-estimator sk-toggleable\"><input class=\"sk-toggleable__control sk-hidden--visually\" id=\"sk-estimator-id-1\" type=\"checkbox\" checked><label for=\"sk-estimator-id-1\" class=\"sk-toggleable__label sk-toggleable__label-arrow\">XGBClassifier</label><div class=\"sk-toggleable__content\"><pre>XGBClassifier(base_score=0.5, booster=&#x27;gbtree&#x27;, callbacks=None,\n",
       "              colsample_bylevel=1, colsample_bynode=1, colsample_bytree=1,\n",
       "              early_stopping_rounds=None, enable_categorical=False,\n",
       "              eval_metric=None, gamma=0, gpu_id=-1, grow_policy=&#x27;depthwise&#x27;,\n",
       "              importance_type=None, interaction_constraints=&#x27;&#x27;,\n",
       "              learning_rate=0.300000012, max_bin=256, max_cat_to_onehot=4,\n",
       "              max_delta_step=0, max_depth=6, max_leaves=0, min_child_weight=1,\n",
       "              missing=nan, monotone_constraints=&#x27;()&#x27;, n_estimators=100,\n",
       "              n_jobs=0, num_parallel_tree=1, predictor=&#x27;auto&#x27;, random_state=0,\n",
       "              reg_alpha=0, reg_lambda=1, ...)</pre></div></div></div></div></div>"
      ],
      "text/plain": [
       "XGBClassifier(base_score=0.5, booster='gbtree', callbacks=None,\n",
       "              colsample_bylevel=1, colsample_bynode=1, colsample_bytree=1,\n",
       "              early_stopping_rounds=None, enable_categorical=False,\n",
       "              eval_metric=None, gamma=0, gpu_id=-1, grow_policy='depthwise',\n",
       "              importance_type=None, interaction_constraints='',\n",
       "              learning_rate=0.300000012, max_bin=256, max_cat_to_onehot=4,\n",
       "              max_delta_step=0, max_depth=6, max_leaves=0, min_child_weight=1,\n",
       "              missing=nan, monotone_constraints='()', n_estimators=100,\n",
       "              n_jobs=0, num_parallel_tree=1, predictor='auto', random_state=0,\n",
       "              reg_alpha=0, reg_lambda=1, ...)"
      ]
     },
     "execution_count": 25,
     "metadata": {},
     "output_type": "execute_result"
    }
   ],
   "source": [
    "import xgboost\n",
    "import matplotlib.pyplot as plt\n",
    "\n",
    "model = xgboost.XGBClassifier()\n",
    "model.fit(X,y)"
   ]
  },
  {
   "cell_type": "code",
   "execution_count": 26,
   "id": "2d894e5d",
   "metadata": {},
   "outputs": [
    {
     "data": {
      "image/png": "[encoded data removed]",
      "text/plain": [
       "<Figure size 432x288 with 1 Axes>"
      ]
     },
     "metadata": {
      "needs_background": "light"
     },
     "output_type": "display_data"
    },
    {
     "data": {
      "text/plain": [
       "<Figure size 576x432 with 0 Axes>"
      ]
     },
     "metadata": {},
     "output_type": "display_data"
    }
   ],
   "source": [
    "feat_imp = pd.Series(model.feature_importances_, index=X.columns)\n",
    "feat_imp.nlargest(10).plot(kind='barh')\n",
    "\n",
    "plt.figure(figsize=(8,6))\n",
    "plt.show()"
   ]
  },
  {
   "cell_type": "markdown",
   "id": "5fe29302",
   "metadata": {},
   "source": [
    "GSM627193 geni etken gen olma yolunda bu modelde en yakın rakiplerine fark atmış görünüyor."
   ]
  },
  {
   "cell_type": "code",
   "execution_count": null,
   "id": "cea738ae",
   "metadata": {},
   "outputs": [],
   "source": []
  }
 ],
 "metadata": {
  "kernelspec": {
   "display_name": "Python 3",
   "language": "python",
   "name": "python3"
  },
  "language_info": {
   "codemirror_mode": {
    "name": "ipython",
    "version": 3
   },
   "file_extension": ".py",
   "mimetype": "text/x-python",
   "name": "python",
   "nbconvert_exporter": "python",
   "pygments_lexer": "ipython3",
   "version": "3.8.13"
  }
 },
 "nbformat": 4,
 "nbformat_minor": 5
}
